{
 "cells": [
  {
   "cell_type": "code",
   "execution_count": 2,
   "metadata": {},
   "outputs": [],
   "source": [
    "import pandas as pd\n",
    "import os"
   ]
  },
  {
   "cell_type": "code",
   "execution_count": 13,
   "metadata": {},
   "outputs": [],
   "source": [
    "df = pd.read_csv('intervenciones_filtradas.csv', delimiter='\\t')"
   ]
  },
  {
   "cell_type": "code",
   "execution_count": 16,
   "metadata": {},
   "outputs": [
    {
     "name": "stdout",
     "output_type": "stream",
     "text": [
      "132\n",
      "<class 'pandas.core.frame.DataFrame'>\n",
      "RangeIndex: 12186 entries, 0 to 12185\n",
      "Data columns (total 10 columns):\n",
      " #   Column           Non-Null Count  Dtype \n",
      "---  ------           --------------  ----- \n",
      " 0   numero_diario    12186 non-null  object\n",
      " 1   tipo_sesion      12186 non-null  object\n",
      " 2   organo           12186 non-null  object\n",
      " 3   fecha            12186 non-null  object\n",
      " 4   tipo_iniciativa  12186 non-null  object\n",
      " 5   materias         11502 non-null  object\n",
      " 6   extracto         12186 non-null  object\n",
      " 7   proponentes      9149 non-null   object\n",
      " 8   interviniente    12186 non-null  object\n",
      " 9   texto            12162 non-null  object\n",
      "dtypes: object(10)\n",
      "memory usage: 952.2+ KB\n"
     ]
    }
   ],
   "source": [
    "df\n",
    "intervinientes = df.groupby('interviniente').size()\n",
    "print(len(intervinientes))\n",
    "\n",
    "df.info()"
   ]
  }
 ],
 "metadata": {
  "kernelspec": {
   "display_name": "valla",
   "language": "python",
   "name": "python3"
  },
  "language_info": {
   "codemirror_mode": {
    "name": "ipython",
    "version": 3
   },
   "file_extension": ".py",
   "mimetype": "text/x-python",
   "name": "python",
   "nbconvert_exporter": "python",
   "pygments_lexer": "ipython3",
   "version": "3.10.13"
  }
 },
 "nbformat": 4,
 "nbformat_minor": 2
}
